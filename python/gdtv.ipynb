{
 "cells": [
  {
   "attachments": {},
   "cell_type": "markdown",
   "metadata": {},
   "source": [
    "1. 建立 websocket 连接。 wss://tcdn-ws.itouchtv.cn:3800/connect\n",
    "2. get 请求 https://tcdn-api.itouchtv.cn/getParam 接口获取 this.node\n",
    "3. 发送 websocket 信息 JSON.stringify({route: \"getwsparam\",message: this.node})，20秒发送一次，同一个node m3u8不会失效\n",
    "4. 接收到 websocket 信息，wsnode，if 201 === status, 继续调用 getParam\n",
    "5. 解析 node： window.btoa(wsnode || this.node)\n",
    "6. GET 请求https://gdtv-api.gdtv.cn/api/tv/v2/tvChannel/53?tvChannelPk=53&node=${node} 获取 直播地址 m3u8 （playUrl）"
   ]
  },
  {
   "cell_type": "code",
   "execution_count": 2,
   "metadata": {},
   "outputs": [],
   "source": [
    "import hmac\n",
    "import hashlib\n",
    "import base64\n",
    "key = b'dfkcY1c3sfuw0Cii9DWjOUO3iQy2hqlDxyvDXd1oVMxwYAJSgeB6phO8eW1dfuwX'"
   ]
  },
  {
   "cell_type": "code",
   "execution_count": 7,
   "metadata": {},
   "outputs": [
    {
     "data": {
      "text/plain": [
       "'L1x3J6FFx3g4NLqIDtPgTSsLxlaC0zF6bPhaaByljTQ='"
      ]
     },
     "execution_count": 7,
     "metadata": {},
     "output_type": "execute_result"
    }
   ],
   "source": [
    "msg = \"GET\\nhttps://gdtv-api.gdtv.cn/api/tv/v2/tvMenu?tvChannelPk=53&beginAt=2023-05-09&endAt=2023-05-18\\n1684140171729\\n\"\n",
    "s= hmac.new(key, msg.encode('utf-8'), hashlib.sha256).digest()\n",
    "str(base64.b64encode(s), 'utf-8')"
   ]
  },
  {
   "cell_type": "code",
   "execution_count": null,
   "metadata": {},
   "outputs": [],
   "source": []
  }
 ],
 "metadata": {
  "kernelspec": {
   "display_name": "Python 3",
   "language": "python",
   "name": "python3"
  },
  "language_info": {
   "codemirror_mode": {
    "name": "ipython",
    "version": 3
   },
   "file_extension": ".py",
   "mimetype": "text/x-python",
   "name": "python",
   "nbconvert_exporter": "python",
   "pygments_lexer": "ipython3",
   "version": "3.10.5"
  },
  "orig_nbformat": 4
 },
 "nbformat": 4,
 "nbformat_minor": 2
}
