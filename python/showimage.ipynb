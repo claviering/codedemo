{
 "cells": [
  {
   "cell_type": "code",
   "execution_count": 2,
   "metadata": {},
   "outputs": [],
   "source": [
    "import requests\n",
    "from PIL import Image\n",
    "from io import BytesIO\n",
    "from IPython.display import display"
   ]
  },
  {
   "cell_type": "code",
   "execution_count": 3,
   "metadata": {},
   "outputs": [],
   "source": [
    "headers = {\n",
    "    \"authority\": \"tly.com\",\n",
    "    \"method\": \"GET\",\n",
    "    \"path\": \"/other/captcha.php?\",\n",
    "    \"scheme\": \"https\",\n",
    "    \"accept\": \"text/html,application/xhtml+xml,application/xml;q=0.9,image/avif,image/webp,image/apng,*/*;q=0.8,application/signed-exchange;v=b3;q=0.7\",\n",
    "    \"accept-encoding\": \"gzip, deflate, br\",\n",
    "    \"accept-language\": \"en-US,en;q=0.9,zh-CN;q=0.8,zh;q=0.7\",\n",
    "    \"cache-control\": \"max-age=0\",\n",
    "    \"cookie\": \"PHPSESSID=1mftogi74heiu6g09jcgak8q41; user_pwd=731a8dd9d1d99493cfe0cdd580b79d5b7f66e2391acdc; uid=2323156; user_email=724063132%40qq.com; cf_chl_2=226b025239ebdb9; cf_clearance=CFAN5md8EYdwT94jcXfditnnY94Wsp9XoVXSKc7QofE-1680140135-0-150; __cf_bm=_QoL.NwvsudkoBIN1iCpbsPWZW3JLSp9Ip78CdScobA-1680140139-0-AaP/wqti/AApLyHUKFXI8pH3WIStifGqTsVUasDhMhSKpMXv+IT5xLuw/ZvHK515BH+U7RjpMy9s5SalaMsqa+pHY0Wt98j7sDPpLHJ0r06UAsFazFw9Ubh6fDZgBgUlRw==\",\n",
    "    \"referer\": \"https://tly.com/other/captcha.php?__cf_chl_tk=6IE5EnJIP3wuspKqBXfCAGhToXAoTphcQdEkYNOXwFg-1680140134-0-gaNycGzNCrs\",\n",
    "    \"sec-ch-ua-mobile\": \"?0\",\n",
    "    \"sec-ch-ua-platform\": \"macOS\",\n",
    "    \"sec-fetch-dest\": \"document\",\n",
    "    \"sec-fetch-mode\": \"navigate\",\n",
    "    \"sec-fetch-site\": \"same-origin\",\n",
    "    \"sec-fetch-user\": \"?1\",\n",
    "    \"upgrade-insecure-requests\": \"1\",\n",
    "    \"user-agent\": \"Mozilla/5.0 (Macintosh; Intel Mac OS X 10_15_7) AppleWebKit/537.36 (KHTML, like Gecko) Chrome/111.0.0.0 Safari/537.36\",\n",
    "}"
   ]
  },
  {
   "cell_type": "code",
   "execution_count": 3,
   "metadata": {},
   "outputs": [],
   "source": [
    "response = requests.get(\"https://tly.com/other/captcha.php?\", headers=headers, data=None)"
   ]
  },
  {
   "cell_type": "code",
   "execution_count": 4,
   "metadata": {},
   "outputs": [
    {
     "data": {
      "image/png": "[encoded data removed]",
      "text/plain": [
       "<PIL.PngImagePlugin.PngImageFile image mode=RGB size=364x66>"
      ]
     },
     "metadata": {},
     "output_type": "display_data"
    }
   ],
   "source": [
    "img = Image.open(BytesIO(response.content))\n",
    "display(img)"
   ]
  },
  {
   "cell_type": "code",
   "execution_count": 5,
   "metadata": {},
   "outputs": [
    {
     "name": "stdout",
     "output_type": "stream",
     "text": [
      "口p46\n"
     ]
    }
   ],
   "source": [
    "url = \"http://hnaruto.pythonanywhere.com/upload-image\"\n",
    "data = {\n",
    "    'image': response.content  # 文件上传\n",
    "}\n",
    "res = requests.post(url, files=data)\n",
    "print(res.text)"
   ]
  },
  {
   "cell_type": "code",
   "execution_count": null,
   "metadata": {},
   "outputs": [],
   "source": [
    "code = res.text # 验证码\n",
    "check_in_url = \"https://tly.com/modules/_checkin.php?captcha=\" + code\n",
    "check_response = requests.get(check_in_url, headers=headers, data=None)"
   ]
  },
  {
   "cell_type": "code",
   "execution_count": 11,
   "metadata": {},
   "outputs": [
    {
     "name": "stdout",
     "output_type": "stream",
     "text": [
      "\u0013\n",
      " \u0000d��W�}.'�\u000e��\u001e�#\t��{I�����\u0005�\u001d�T�xТ|+�\u0018Jl\u000f�팎9lm�V���\u0018}��\n",
      "�b�\u0006a\u000ey@\u0014�-�!2\u001c��E<O�UR�d]��\u0015G\t�Kvi\u0018��\f�S\u0004���{�>�6�\"�\"�:���7 �4h��)�Z�\u0012��6/�̞�R5wS�\u0019�t�]�.�k\u0000�j���^����W���=�\f��c_������f�\u001f�Hđ{\u0000\"\u0003�\u0014[��M/�Ե�\u0014��X����-t�qU�H\u000f���W�R�{��/NN}�s��RQՏK�/S�GlzP͜�ˋ!v{;��uG\u0002���ҫ/�\u0007�Ƽ+�5�i��\u001c<l`$/����d�辴b�9�b�\u000b1z���\u0000Z�\u0012o\\U\u001fX��ܛ�c\u000b&\u001a�37d�ip)Ǒmf\u0006����,���\u0015�p�&o�n9�5�I�\u0005~�=8�!?2��)�\u0015@ͩ*\u001aV�16#S�%h��R�р�mDO\u0005_qa�j�G��=+KTۂx����%�\u001b\u001e�|\u0010��C�\u0006!C3�������Y}�f��F���1��e0�\u0015㚖·���<�\u001bҭ͖�X�\u0007z������;���T��KO\u001e�\u0003�XOn\u0017�S=�2�\u0016ߪ�� .=��ֹC\u0018\u000e�\u0010�#�\u001d�\u0017�z&��2��\u0003貵\u001c��?tͲ\u0000Y�����\u0011�c[%�Z\n",
      "9<=������%��\u0014$-��@O\f�5��\u0012��G�\u0018��_W>�Ur\u0012L�y�\u0005\u001ej��Q\u001e�<��,�\u0003\"��/pb�\u0019\u0004�Rr���\u001e�`j3L%#HN�\u0003���d�6�D�2g�mQ\u0007�l�\u0007��?o!w9���\u0011\u0011���9�I�;!��=�شp\u001a\u0014}GB��α\\�W@�¨���=�E\u001f\u001a����}\u0011��twTG�I+_q�\u0001��2�qȒ�9M{��1P�'Vy���Q$�\u001f|y���\u001d^��N�\\�\u001dd\u0018\n",
      "zX8��Ru�\"%(���^\u0014���Q<\u00017��\u0004Aeݣ����Y�\u000bӝr�a0S�\u0016.5l\u001b�����z����)�\\\n",
      "J�^\n",
      "�\u0002���|�ō<��E��}�h���W���\u0006�G�3l�m֤�S%�X)\t\u001c\u0014�\u0018�-Ͱ����lLڡ�\u0010ܴ����� �E\u000f�Sh�\u0006�\u000f�yC�q�e>~�G^�~%@HqH�-��\t\u0011kR4Z1\"�Q7a�����{�.YI�\u001bs��\u001c\u0006.\u0007_}\f�)��MI2 \"큉��2y>^��X��s�,�?j�DoI�m'H��\u001a\"Ʌj�~>v\u0013�6)��\u0018\"�!'+���uhE����\u0016ʒ���Y2�D]�o�\u0001#\u001bǞD��\u000e���;�iBd�+5�3����DRj��rH�\u000e��t���\f����ٖɻd����B=1ݶ��v?AT��\u0014�w��k?�ŰHߺ�\u0017���\f�\u0011��J�wp��c3�\u001bc\u0017��\u0013���9?l/aZ)\u0002��\u0005��\n",
      "�P��\u0005T:���z~�\\��.H}-u-�\n",
      "��U��QS��a�u�2�ȉ�s�\u0012�\u0003�\u000ec���\u0005��W��cݪ������\n",
      "\u0014�\u001eM�����8�<�w���,���{��\u0014�R��k,<�D\u0011�\u0007�H���Jd���E\u0010�\u001ac�L�\u0003MZ@��*\u0018�\u0015�?/8Ї��E\u001b�;[�A��!�Ha���j������\u001b\u000fJ[�G'��\u0010b�1�\u0012�\u001d\u001f{A�<\u0006�\u001a4ԯG$��\u0005��l�\u001cg]�5\u0006^5k��|���9{p��D�\u001a��Ug��-�U`\u0006�\u0002y� \u0002\u0005�:�\u0018\u0002LS�Dm:t�{l\n",
      ">�\u0005�@\u001b\u001d�\u000b��W}����vn��f�6�\u0004���� �\u0017t �Q�'�Я\fӢ\f\n",
      "q�g�>�I�!a�\u0018��\u0010S�X\u001e���\u0016�Y��ԧ%u\u0015p�_š%H+L�6Ɇ��&�\"*�{�7�N\u000f�U�K\u001ay�@lJ�:������8�Օ�\u000bm�y�`|��ZM����<�����\u001b\u0014��8\u001f�`#w�|㛨z�\\�\\\u0007-�Yn�{b�\u001a\u001a\u001a/�\u0010��ul�\u0013�\u00137\u0001�.�}<�\u0018l@ۇU\u001b�\u0017�:t���a3��\u0014��=+\u0019�gb����^i��=+�!p����ebR�\u0012Cz�~T-�\u00107-ĒåN�]e��\u0013o��`��D�D�9�#��(V�M���gFw�s�\u001e��\u0001\u0000��L���G9\u0000��+��Ǆ\n",
      "_�.K��Q9�P8\u001a��\u0017\u0013�\u0011�\u001c*��O�5����Y��~�\u001f����P2\u000e�/��?����\u001fm\u0003\u0000@����\u001cn˜��\u0002n�卹i�g��U\u000fV�z���/�V̿\t�>�Ih^\u001c\u000f�Y�\u0007�f���=��d\u001c�\t�F8\\\u0013�q�T�1\u001a��>������9)�e����F�C\u0006�\u0000��o\u001e��D+\u001c!ZJ�7Е�S�\u001d��7p�\u0001��_|\u0013�,�����\u0004���o�\u000e\u0001�\u0004n�~\u0003�U��z��e�y�+i�\u0011p?��VI�'�\u0017\u0017�6�\u001e�)D\u0002[~R��O�B,�}F�\u001c�S\u0003<\"�\u0012��\u0017�JF�ۑ�Fk�3Q��\u001e��P8�>�1Z�>�2���@#��/�k�o��h��췶�\u000b�M'��M浊H\u001dz\u0017?��d\u001c�^\u001e�Gj>v_�ׯ�+�� dP��\u001e�b�S�<X:�Q79�G���\u000e�r@��\u0002���ny\u0015C���M�\u0003T����\u0014�F�\u001f�V\u000e�!�D����[_9�H������\u0002���e��E�>Ɩ\u0004�8Ք37\u0007���+�\u001b��#���\u0015q�{\u001cE4\u000f5���o9\u0006���[�\u001b{���ʆ\t��9�L.l\u001c,�*���S��8�L}�g�\u0005愻d��O�̚�!9�\u001c>\u001b��ܭ�\u0006n�\u001a;˼A�[���P懯$di\"ȏv�u1��ڕ�s\u001c;��nY~\u00037\n"
     ]
    }
   ],
   "source": [
    "index_headers = {\n",
    "    \"authority\": \"tly.com\",\n",
    "    \"method\": \"GET\",\n",
    "    \"path\": \"/modules/index.php\",\n",
    "    \"scheme\": \"https\",\n",
    "    \"accept\": \"text/html,application/xhtml+xml,application/xml;q=0.9,image/avif,image/webp,image/apng,*/*;q=0.8,application/signed-exchange;v=b3;q=0.7\",\n",
    "    \"accept-encoding\": \"gzip, deflate, br\",\n",
    "    \"accept-language\": \"en-US,en;q=0.9,zh-CN;q=0.8,zh;q=0.7\",\n",
    "    \"cache-control\": \"max-age=0\",\n",
    "    \"cookie\": \"PHPSESSID=1mftogi74heiu6g09jcgak8q41; user_pwd=731a8dd9d1d99493cfe0cdd580b79d5b7f66e2391acdc; uid=2323156; user_email=724063132%40qq.com; cf_chl_2=226b025239ebdb9; cf_clearance=CFAN5md8EYdwT94jcXfditnnY94Wsp9XoVXSKc7QofE-1680140135-0-150; __cf_bm=_QoL.NwvsudkoBIN1iCpbsPWZW3JLSp9Ip78CdScobA-1680140139-0-AaP/wqti/AApLyHUKFXI8pH3WIStifGqTsVUasDhMhSKpMXv+IT5xLuw/ZvHK515BH+U7RjpMy9s5SalaMsqa+pHY0Wt98j7sDPpLHJ0r06UAsFazFw9Ubh6fDZgBgUlRw==\",\n",
    "    \"sec-ch-ua\": \"\\\" Not A;Brand\\\";v=\\\"99\\\", \\\"Chromium\\\";v=\\\"111\\\", \\\"Google Chrome\\\";v=\\\"111\\\"\",\n",
    "    \"sec-ch-ua-mobile\": \"?0\",\n",
    "    \"sec-ch-ua-platform\": \"macOS\",\n",
    "    \"sec-fetch-dest\": \"document\",\n",
    "    \"sec-fetch-mode\": \"navigate\",\n",
    "    \"sec-fetch-site\": \"same-origin\",\n",
    "    \"sec-fetch-user\": \"?1\",\n",
    "    \"upgrade-insecure-requests\": \"1\",\n",
    "    \"user-agent\": \"Mozilla/5.0 (Macintosh; Intel Mac OS X 10_15_7) AppleWebKit/537.36 (KHTML, like Gecko) Chrome/111.0.0.0 Safari/537.36\",\n",
    "}\n",
    "index = requests.get(\"https://tly.com/modules/index.php\", headers=headers)\n",
    "print(index.text)"
   ]
  },
  {
   "cell_type": "code",
   "execution_count": 31,
   "metadata": {},
   "outputs": [
    {
     "name": "stdout",
     "output_type": "stream",
     "text": [
      "200\n"
     ]
    }
   ],
   "source": [
    "print(index.status_code)"
   ]
  },
  {
   "cell_type": "code",
   "execution_count": 30,
   "metadata": {},
   "outputs": [
    {
     "ename": "AttributeError",
     "evalue": "'str' object has no attribute 'decode'",
     "output_type": "error",
     "traceback": [
      "\u001b[0;31m---------------------------------------------------------------------------\u001b[0m",
      "\u001b[0;31mAttributeError\u001b[0m                            Traceback (most recent call last)",
      "Cell \u001b[0;32mIn[30], line 1\u001b[0m\n\u001b[0;32m----> 1\u001b[0m \u001b[39mprint\u001b[39m(index\u001b[39m.\u001b[39;49mtext\u001b[39m.\u001b[39;49mdecode(\u001b[39m'\u001b[39m\u001b[39mgbk\u001b[39m\u001b[39m'\u001b[39m, errors \u001b[39m=\u001b[39m \u001b[39m'\u001b[39m\u001b[39mignore\u001b[39m\u001b[39m'\u001b[39m))\n",
      "\u001b[0;31mAttributeError\u001b[0m: 'str' object has no attribute 'decode'"
     ]
    }
   ],
   "source": [
    "print(index.text.decode('gbk', errors = 'ignore'))"
   ]
  },
  {
   "cell_type": "code",
   "execution_count": null,
   "metadata": {},
   "outputs": [],
   "source": []
  }
 ],
 "metadata": {
  "kernelspec": {
   "display_name": "Python 3",
   "language": "python",
   "name": "python3"
  },
  "language_info": {
   "codemirror_mode": {
    "name": "ipython",
    "version": 3
   },
   "file_extension": ".py",
   "mimetype": "text/x-python",
   "name": "python",
   "nbconvert_exporter": "python",
   "pygments_lexer": "ipython3",
   "version": "3.10.5"
  },
  "orig_nbformat": 4
 },
 "nbformat": 4,
 "nbformat_minor": 2
}
