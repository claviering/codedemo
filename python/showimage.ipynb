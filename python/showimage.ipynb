{
 "cells": [
  {
   "cell_type": "code",
   "execution_count": 1,
   "metadata": {},
   "outputs": [],
   "source": [
    "import requests\n",
    "from PIL import Image\n",
    "from io import BytesIO\n",
    "from IPython.display import display"
   ]
  },
  {
   "cell_type": "code",
   "execution_count": 2,
   "metadata": {},
   "outputs": [],
   "source": [
    "headers = {\n",
    "    \"authority\": \"tly.com\",\n",
    "    \"method\": \"GET\",\n",
    "    \"path\": \"/other/captcha.php?\",\n",
    "    \"scheme\": \"https\",\n",
    "    \"accept\": \"text/html,application/xhtml+xml,application/xml;q=0.9,image/avif,image/webp,image/apng,*/*;q=0.8,application/signed-exchange;v=b3;q=0.7\",\n",
    "    \"accept-encoding\": \"gzip, deflate, br\",\n",
    "    \"accept-language\": \"en-US,en;q=0.9,zh-CN;q=0.8,zh;q=0.7\",\n",
    "    \"cache-control\": \"max-age=0\",\n",
    "    \"cookie\": \"PHPSESSID=1mftogi74heiu6g09jcgak8q41; user_pwd=731a8dd9d1d99493cfe0cdd580b79d5b7f66e2391acdc; uid=2323156; user_email=724063132%40qq.com; cf_chl_2=226b025239ebdb9; cf_clearance=CFAN5md8EYdwT94jcXfditnnY94Wsp9XoVXSKc7QofE-1680140135-0-150; __cf_bm=_QoL.NwvsudkoBIN1iCpbsPWZW3JLSp9Ip78CdScobA-1680140139-0-AaP/wqti/AApLyHUKFXI8pH3WIStifGqTsVUasDhMhSKpMXv+IT5xLuw/ZvHK515BH+U7RjpMy9s5SalaMsqa+pHY0Wt98j7sDPpLHJ0r06UAsFazFw9Ubh6fDZgBgUlRw==\",\n",
    "    \"referer\": \"https://tly.com/other/captcha.php?__cf_chl_tk=6IE5EnJIP3wuspKqBXfCAGhToXAoTphcQdEkYNOXwFg-1680140134-0-gaNycGzNCrs\",\n",
    "    \"sec-ch-ua-mobile\": \"?0\",\n",
    "    \"sec-ch-ua-platform\": \"macOS\",\n",
    "    \"sec-fetch-dest\": \"document\",\n",
    "    \"sec-fetch-mode\": \"navigate\",\n",
    "    \"sec-fetch-site\": \"same-origin\",\n",
    "    \"sec-fetch-user\": \"?1\",\n",
    "    \"upgrade-insecure-requests\": \"1\",\n",
    "    \"user-agent\": \"Mozilla/5.0 (Macintosh; Intel Mac OS X 10_15_7) AppleWebKit/537.36 (KHTML, like Gecko) Chrome/111.0.0.0 Safari/537.36\",\n",
    "}"
   ]
  },
  {
   "cell_type": "code",
   "execution_count": 3,
   "metadata": {},
   "outputs": [],
   "source": [
    "response = requests.get(\"https://tly.com/other/captcha.php?\", headers=headers, data=None)"
   ]
  },
  {
   "cell_type": "code",
   "execution_count": 4,
   "metadata": {},
   "outputs": [
    {
     "data": {
      "image/png": "[encoded data removed]",
      "text/plain": [
       "<PIL.PngImagePlugin.PngImageFile image mode=RGB size=364x66>"
      ]
     },
     "metadata": {},
     "output_type": "display_data"
    }
   ],
   "source": [
    "img = Image.open(BytesIO(response.content))\n",
    "display(img)"
   ]
  },
  {
   "cell_type": "code",
   "execution_count": 5,
   "metadata": {},
   "outputs": [
    {
     "name": "stdout",
     "output_type": "stream",
     "text": [
      "口p46\n"
     ]
    }
   ],
   "source": [
    "url = \"http://hnaruto.pythonanywhere.com/upload-image\"\n",
    "data = {\n",
    "    'image': response.content  # 文件上传\n",
    "}\n",
    "res = requests.post(url, files=data)\n",
    "print(res.text)"
   ]
  },
  {
   "cell_type": "code",
   "execution_count": null,
   "metadata": {},
   "outputs": [],
   "source": [
    "code = res.text # 验证码\n",
    "check_in_url = \"https://tly.com/modules/_checkin.php?captcha=\" + code\n",
    "check_response = requests.get(check_in_url, headers=headers, data=None)"
   ]
  },
  {
   "cell_type": "code",
   "execution_count": 6,
   "metadata": {},
   "outputs": [
    {
     "name": "stdout",
     "output_type": "stream",
     "text": [
      "\u0003�\u001d\u0011\u0015�\u001f\"��\u000f�F����#d�{��ٟ��4O�]����Ҥ-�����F�X\u001e�f�52%�Q\u0012�+�!�솒��C<�}�Rժ����\u0005\u0010�`��O\u000e)�\u0004hB�I\u0019��e\u0016��T�W4ߵ�����\u0014���S1.ư�Qq��s�o\u000f�\u000b\u0014��\u0003����\u0007L�\u001f��\u0006�\\*2e��Ĩ\u0019%bE��\"�n�9\u0015K��P��Ѣϸ�ALF7l��\n",
      "G���\u0007A���^\u0013&\f����w]ӽ����Y�(JRDR[�oz�.l+\u0019��}��<\u0018\"ې{�yV�\u0018J^g�n�lB�\t\u0015\u001c\t��\"9�P\u000f1\u0019�^�g\u0011UU���T�\u0018�\\JS�&0V#L�SM�\u0001aa�&i���f�Ƭ�i�O�S�\u001b^\u0003�H�I��.A~8�\u0018���W-U/*{��`�\u0012����\u001a�%�\n",
      "R�H�\t�4MA���Ͼ��}�\f��W�:�\u001b,\u001d%�j��5��2�{+M��*}/�F\u0001�P�ɭ��7=׎�\t`��H\u0016���`�(n�B�Ý\u0019+\u0006��AI`]\u00041\u0011 ��\u0019\u0018@�\u001e�\f\u001567\u000b�PM�Y\u0003J�\u0010Ͷ�\u001f�~x�\u000f�9Dp:�\u0003�\u0004�&�e��)QM�s�\u0010�\u0000�۫\u0002�hS�$\u000b[\u00149~�U���<Ne��F\"�A�G�Ѧ��\u000f�\u0004���\u001cM�ؗa\"�LN\u0013\u0019�r��$�}(\u0013*ǡ���,�и���\n",
      "�\u0010m\u0011�\u001e�g���� ��,K�T-���yX�P\u0012N�η\u0019E@��%��d\u0010�(Q\\��5�(�jЁ�͢9�\u0012!�\u0012\u001dA�U\u00108\u0001��\u0004N�� �HT�TA�B�p\u0000Vc�\u0016��\u0003)\u0013��Rc�\t���L��2-�l7�zI\t�d�W�a\u001f�\u0011��\u0003I\u0005��8\n",
      "�W�\u0016���0��e\u0013��Y1]\u0013\u0016��J�b\u0015Kn�T*��p��|�Q�kqBS��\u001f�\u0001\u0001���u\u0017�>4n�2F~��qk�(P<�xa4�|��\u0013�\u000b�\u0016jmM)U?eL��^�l5,hyV�B�kU,ׂ�r�R��Ţ[,\u0015/�@\u0007��i�y8��\u001f|a9������}S7-E�\u0014����\n",
      "u-�:\u0011DZ]4�k��\u0015�J�\u001a)\u0002�l�>L\u0011�\u001a�\u0004�)Q6�\u0005��h�0\u0015���Zvs���Tv�\u001e�\n",
      "~L�{s%;��i��u�D\u0014�[t2�����\f�(����[��w�w~�;�u��8IJ_o\u00134�\u0012#���\"��|\u0015\u001eO*\u000e!y&��\\ŃIC�t)L�\u0012�\n",
      "�j�f�#�9Y\u0000 ����!47��Ԡ�~��·\u000ezs7�\u000f~�LH��q��\u001c�y����>��ke��.�h�\"��i�0\u0006\u0012\u0019�$��Θ@�^��\u001f��⊊�59�P�\u0018�6GHX���A�4J� ����ccZ�+�~�,k^H[~#�\t�S�d\u001c��<�#cH�>�\u0002�%�#�2��\u001cȉ\f�(w\f\u000fK\u001f�al�\u001cO�\u000bw\fy�4b'5<���x8\u00199~<�¹c\u0002\u0000�x8\u0019Q�g/�����#95n���Gi�\u001c�\u001b\u0014���\u0004��\u0014\n",
      "���Q�*K<;�E�@J�A(G9��܍3.��}��ˑG�2�d�ONN�5ie�\u000flY��(Ƙ$K\u0001�r5A\u0000 ��R\u001b^[I\u0006�wo+�Yɗ\n",
      "�bI28\u0006�\u0016Cɐ/U�dZ�e\u0014�\u00128����G��/�@�a�&0��X\u001b^\t��S�9Q�����һC�\u0005L=�\u0002�I%y�U��UA\u0012��fޒ�Q(��(�j`\u0010j-��2G�j�b<�i�\u001f 瀢�ה\u0007ͶHd�~=�B\u0012�p�,\u0014d��SW+�\u001a8��8\u0018X\u0013��D���\n",
      "�bc��S\u0005�\u0012T\u0013�z��TF��M�`������¥��-9�J[|�Qq�����ntڳ��?\u000fw/�\u000f��{|�tv��-v�\u000e�7W\u000ew��cP��U��З��չį��V�����/\u000fw/v���W�d\u000f���ً���+��e�ċ��\u0015�}).詪\u001d\u0014��.R��Ҹ\n",
      "�\u0002��T�eU�{\f�RX\u0013�t\u0012�\u0011Ч\"�ȸ�n���^f���<W���N����W�\u000f0��Ț%\u0011\u0014�X�i\u001a��q�\u0004�\u001f4>vv\u0000\\��^���\u0016e����\u0012:���ɣ�\u0012�J1�̥S�r\u0002\u001ab?ܨ{�\n",
      "����^���\u0016J8l�v��ܣ�޽l�lgg/\u001b1�槢���ٹ�{�%�l{��\"\u0004;�~��\fE<����+��v��&�r��u���%8�ȫ�9� )'��ӻ���：�WA���i���Z��]����������f��W�z7[]����./��\u000e�¥��\u001fٳ[ٹ}~v#QE�\u000e�\u0004\u0011uԑ\u000f>�u]��r�ӫ�\u000b��#�7-�hi8=\u0011\u0013щĴ�{����fo�av�V��\u001d\u0006��.vڗz\u000f�g���O{g��O��O����?���W�/��66�Ջ��e�t�{�Tvu���/�{+�q9�}9;������y�d�e6�¯��N������2򄯯t��u��w�{�C`���<���-U#���ߣ�(DA\u0002���\u0017��e��\u00004\u0001)�L�4E�@�N����]^�۪k��4A�'\u0003��O!b��ӵ:�\u000b��=Z��\u001b�7O���4��\u0006g�\"�B�4�\u0010u�\u0002���������^E\u0003_\u0002���fl[��6�\u0013��\\7^�v�e�C���\u0019�Z0Ay�\u0019��\u001cm��\u0019�Q��o�'���\u0007>ܽ��?���V��į������Y��u���##��,�����\u0013���M���gVL�̛��[\u0015Ӱ�E�D�i궵Q/Wv�vov��f�.^�/\u0010�B�\u0011��ݺ�]�`���7�`P��D��\u0005���g'\u0017��\u0017�8$v��\n",
      "�o\u001axr\u0003���{sEZ�����%����CC�{�٫������}���\\���D٫�k��M�U�\u000e�˷�\u0018a��r�\u000b\u0013��(�E��%\u0014~�\u000b\u0013\u0011��;�4Pr\u0011:i�y��<\u0011&��8'8e������\u000fҨ����)��5�?eP0v@��8[<���������\u001f�\u0003�,\u0005p����R�b�? N���\n",
      "\u001dvv\u0010��\u0018@�~��y��M3�7�dw^���U��\u001bV�l�~��K���B�ϝ�����׼�7o��\\+\u001e���'\u001b\\1�\u001ez�\u0001�T���\u0010VдFԇ��\u0012q+�|�X:�E�?��ː�\u00194���TI\u000fAx�\u001f��\u0018�4\u0000\u0006;f�;6P�e�5\u001f�\u000bcT4�3\n",
      "R�(������\u0016�uK�%�Ee�h[L�\u0016\u0012�7�P&U���̈\n",
      "0\u001b$�\u0014�\u0013׵f^z�tV\u001b\u0019#\n",
      "5ư\u001bV@\u0006D�Kj�[rFF�O\n",
      "���M����[�X4�%S��L�#�ۢ\u0007��kB��g5��M\u0014r\u0001Eb�cU�UՠI��U\t\n",
      "���/�����\u001c��ͭ�IW��+W;�Kb�w^�A��>�.p6�4yE?Aj���v���#��C>7���!P�����ι����^�z�-w���\u001d~v3�����'�ו���1����q\u0014(8��\u0018��KI�D8r�݅�Z�x��w�Ho�\"�@s��@ʄz\\\u0006�T�)\u0011\u000b���>�=���K]0Tu����\u001b��W�|U/�i���z�P�\n",
      "x�M�\u000f��$\u0005��\u0010�b\u000f)�.f�VNǨGȬ�bʰ�\u000e�\u0001�d�I\u0010\"%�\u0004\u0001֤��M�\u000bc��T���8�{8��\u001b�[���oeg��\u0002��l����T�I�4T$�\u0001O1���Nn�y\u001dKx��`%)�~�Y_ˁc�\u0000��Y��c��\u0000n\f�6(�$er*�==H�Z1�mc\u0006�\u0019�k�s�k���\t\u00142�_��\u001d��J��w�0pB�t]�Մ\u0001\u0011'L���\n",
      "����;�X��:&\u001a<�\u0016�I.l�\n",
      "�R���m�vE7'Iq�?:qݭ�t���w����<�s�w�,MmW�1�͛�8���O���\u0006Nw��g���c\\�\u0013��.\u0019\u0015K\u000fHE~�$�KFE//�DD\u0018wL��ۄ~<�9�^���/�\u001e�~(p�\u001ey�������3�8&W�fń�.\u0019\u0015$D��\f�e��b�J�wld\u0004&�\u001d�e��t3X\u0017�~�,��k>��Y�Ű�\\U1�1�Ϥߨl\u001d\u000bD��\"\u000f\u00058s�\u001c�j~�I\u0000�Z�C:�\u0013\u0017|Nt+�e$�G\u001c8/�nBi\u0004\u0016l(�\u0010q#�SCҢ�}���n�Y���f\n",
      "e\n",
      "6R��5t6h06��.\u0010��\f\u0003\t.Wg��\u0001\t�Z.�a�\u001e\u0018>�\"�Âq�?`\u0002\u000b.�ó�+�)�=�8�\u0004\u0016�\u0015�[5���s8�\u0011�\u0005��\u000e�u���cFJLd�ceO%��.J�h,��G4��,FJL4AB6��\u0012��S��a]��j\u001a�t\u001e�\n",
      "�\u0002�ƺ�mF%�\u0013o|d(@\u00065̞٣��\u0014��Il8�J�/lݴ,��\u001c\u001a\u000b�sR�ٺ���i놯�\u0016\u0002�W�A�j\u001e�2c�ntw�l��$\u0013�?\u001aL�^5?\u0017'��\u0018/\u001d�R�yz�\u001el��N�e{�\u001e�/�8�\u000e���\u0019oO/ҝ'}�H]�\u001b[��\u001e�|{��l��L\u0001g\u0015�&i7\u0016,)/�b�\n",
      "��4��\u0017_���\u001f�}�ӿ\u001f>���Ϩ�\u000f\u0016��p\\Fl�&F��j�!ڌMQ�/� �'&��a9\u0013��J��J��T5�\"�Q��O��:����\u0014���\u0015UO�C7Sm�\f�\u000fA�\u001d��6����;�Q5��\u0018x��)�$\u0005�7�?23������O$��|l���,�T�\u0012x1����ï��\n",
      "�\u0001\u0003\n"
     ]
    }
   ],
   "source": [
    "index = requests.get(\"https://tly.com/modules/index.php\", headers=headers, data=None)\n",
    "print(index.text)"
   ]
  },
  {
   "cell_type": "code",
   "execution_count": 31,
   "metadata": {},
   "outputs": [
    {
     "name": "stdout",
     "output_type": "stream",
     "text": [
      "200\n"
     ]
    }
   ],
   "source": [
    "print(index.status_code)"
   ]
  },
  {
   "cell_type": "code",
   "execution_count": 30,
   "metadata": {},
   "outputs": [
    {
     "ename": "AttributeError",
     "evalue": "'str' object has no attribute 'decode'",
     "output_type": "error",
     "traceback": [
      "\u001b[0;31m---------------------------------------------------------------------------\u001b[0m",
      "\u001b[0;31mAttributeError\u001b[0m                            Traceback (most recent call last)",
      "Cell \u001b[0;32mIn[30], line 1\u001b[0m\n\u001b[0;32m----> 1\u001b[0m \u001b[39mprint\u001b[39m(index\u001b[39m.\u001b[39;49mtext\u001b[39m.\u001b[39;49mdecode(\u001b[39m'\u001b[39m\u001b[39mgbk\u001b[39m\u001b[39m'\u001b[39m, errors \u001b[39m=\u001b[39m \u001b[39m'\u001b[39m\u001b[39mignore\u001b[39m\u001b[39m'\u001b[39m))\n",
      "\u001b[0;31mAttributeError\u001b[0m: 'str' object has no attribute 'decode'"
     ]
    }
   ],
   "source": [
    "print(index.text.decode('gbk', errors = 'ignore'))"
   ]
  },
  {
   "cell_type": "code",
   "execution_count": null,
   "metadata": {},
   "outputs": [],
   "source": []
  }
 ],
 "metadata": {
  "kernelspec": {
   "display_name": "Python 3",
   "language": "python",
   "name": "python3"
  },
  "language_info": {
   "codemirror_mode": {
    "name": "ipython",
    "version": 3
   },
   "file_extension": ".py",
   "mimetype": "text/x-python",
   "name": "python",
   "nbconvert_exporter": "python",
   "pygments_lexer": "ipython3",
   "version": "3.10.5"
  },
  "orig_nbformat": 4
 },
 "nbformat": 4,
 "nbformat_minor": 2
}
