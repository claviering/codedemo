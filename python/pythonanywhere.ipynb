{
 "cells": [
  {
   "cell_type": "code",
   "execution_count": 5,
   "metadata": {},
   "outputs": [],
   "source": [
    "import requests\n",
    "import re"
   ]
  },
  {
   "cell_type": "code",
   "execution_count": 2,
   "metadata": {},
   "outputs": [],
   "source": [
    "headers = {\n",
    "  \"Accept\": \"text/html,application/xhtml+xml,application/xml;q=0.9,image/avif,image/webp,image/apng,*/*;q=0.8,application/signed-exchange;v=b3;q=0.7\",\n",
    "  \"Accept-Encoding\": \"gzip, deflate, br\",\n",
    "  \"Accept-Language\": \"en-US,en;q=0.9,zh-CN;q=0.8,zh;q=0.7\",\n",
    "  \"Cache-Control\": \"max-age=0\",\n",
    "  \"Connection\": \"keep-alive\",\n",
    "  \"Cookie\": \"web_app_tab_type=%23tab_id_hnaruto_pythonanywhere_com; cookie_warning_seen=True; csrftoken=un2tRDO9Eml9IDlLLSlnATxETfuEOV76s8Vz7rsIGjZtVQamU8I6XumTbfCPyOcC; sessionid=jmfzba8eohsnlq3bxgy44eqjgc4fw30q; __stripe_mid=9e0449b1-34e5-4833-add3-9aaa52fadf15d0034b; __stripe_sid=5748f960-0f33-4135-b83c-a0eeecbd842178cd6b\",\n",
    "  \"Host\": \"www.pythonanywhere.com\",\n",
    "  \"Referer\": \"https://www.pythonanywhere.com/user/hnaruto/webapps/\",\n",
    "  \"sec-ch-ua-mobile\": \"?0\",\n",
    "  \"sec-ch-ua-platform\": \"macOS\",\n",
    "  \"Sec-Fetch-Dest\": \"document\",\n",
    "  \"Sec-Fetch-Mode\": \"navigate\",\n",
    "  \"Sec-Fetch-Site\": \"same-origin\",\n",
    "  \"Sec-Fetch-User\": \"?1\",\n",
    "  \"Upgrade-Insecure-Requests\": \"1\",\n",
    "  \"User-Agent\": \"Mozilla/5.0 (Macintosh; Intel Mac OS X 10_15_7) AppleWebKit/537.36 (KHTML, like Gecko) Chrome/111.0.0.0 Safari/537.36\"\n",
    "}"
   ]
  },
  {
   "cell_type": "code",
   "execution_count": 3,
   "metadata": {},
   "outputs": [],
   "source": [
    "response = requests.get(\"https://www.pythonanywhere.com/user/hnaruto/webapps/\", headers=headers, data=None)"
   ]
  },
  {
   "cell_type": "code",
   "execution_count": 8,
   "metadata": {},
   "outputs": [
    {
     "name": "stdout",
     "output_type": "stream",
     "text": [
      "DimtFUSeGyUhQ8wPT0rkFtK9k8ebXYVrB3fzVIwNIvyB3llq2gO324zoC8mmHR0X\n"
     ]
    }
   ],
   "source": [
    "pattern = '<input\\s+type=\"hidden\"\\s+name=\"csrfmiddlewaretoken\"\\s+value=\"([\\w]+)\">'\n",
    "result = re.search(pattern, response.text)\n",
    "csrfmiddlewaretoken = ''\n",
    "if result:\n",
    "    print(result.group(1))\n",
    "    csrfmiddlewaretoken = result.group(1)"
   ]
  },
  {
   "cell_type": "code",
   "execution_count": 9,
   "metadata": {},
   "outputs": [
    {
     "name": "stdout",
     "output_type": "stream",
     "text": [
      "200\n"
     ]
    }
   ],
   "source": [
    "\n",
    "data = {\n",
    "    'csrfmiddlewaretoken': csrfmiddlewaretoken\n",
    "}\n",
    "response = requests.post(\"https://www.pythonanywhere.com/user/hnaruto/webapps/hnaruto.pythonanywhere.com/extend\", headers=headers, data=data)\n",
    "print(response.status_code)"
   ]
  },
  {
   "cell_type": "code",
   "execution_count": null,
   "metadata": {},
   "outputs": [],
   "source": []
  }
 ],
 "metadata": {
  "kernelspec": {
   "display_name": "Python 3",
   "language": "python",
   "name": "python3"
  },
  "language_info": {
   "codemirror_mode": {
    "name": "ipython",
    "version": 3
   },
   "file_extension": ".py",
   "mimetype": "text/x-python",
   "name": "python",
   "nbconvert_exporter": "python",
   "pygments_lexer": "ipython3",
   "version": "3.10.5"
  },
  "orig_nbformat": 4
 },
 "nbformat": 4,
 "nbformat_minor": 2
}
